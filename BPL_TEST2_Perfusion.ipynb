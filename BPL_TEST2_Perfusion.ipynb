{
 "cells": [
  {
   "cell_type": "markdown",
   "metadata": {
    "id": "UTETJm3l6heL"
   },
   "source": [
    "# BPL_TEST2_Perfusion - demo\n",
    "\n",
    "This notebook explore perfusion cultivation in comparison with ordinary continuous cultivation (chemostat) and use comparable settings to earlier notebook. Further you see here examples of interaction with the simplified commands par(), init(), simu() etc as well as direct interaction with the FMU which is called \"model\" here. The last simulation is always available in the workspace and called \"sim_res\". Note that describe() brings mainly up from descriptive information from the Modelica code from the FMU but is complemented by some information given in the Python setup file."
   ]
  },
  {
   "cell_type": "code",
   "execution_count": 1,
   "metadata": {
    "colab": {
     "base_uri": "https://localhost:8080/"
    },
    "id": "b-y82jZY33cO",
    "outputId": "4c8491f9-9fd0-4a34-9ea1-cb7facd393b2"
   },
   "outputs": [
    {
     "ename": "ModuleNotFoundError",
     "evalue": "No module named 'pyfmi'",
     "output_type": "error",
     "traceback": [
      "\u001b[1;31m---------------------------------------------------------------------------\u001b[0m",
      "\u001b[1;31mModuleNotFoundError\u001b[0m                       Traceback (most recent call last)",
      "File \u001b[1;32m\\\\VBoxSvr\\Modelica\\GitHub\\Colab\\BPL_TEST2_Perfusion\\BPL_TEST2_Perfusion_explore.py:61\u001b[0m\n\u001b[0;32m     59\u001b[0m \u001b[38;5;28;01mimport\u001b[39;00m \u001b[38;5;21;01mnumpy\u001b[39;00m \u001b[38;5;28;01mas\u001b[39;00m \u001b[38;5;21;01mnp\u001b[39;00m \n\u001b[0;32m     60\u001b[0m \u001b[38;5;28;01mimport\u001b[39;00m \u001b[38;5;21;01mmatplotlib\u001b[39;00m\u001b[38;5;21;01m.\u001b[39;00m\u001b[38;5;21;01mpyplot\u001b[39;00m \u001b[38;5;28;01mas\u001b[39;00m \u001b[38;5;21;01mplt\u001b[39;00m \n\u001b[1;32m---> 61\u001b[0m \u001b[38;5;28;01mfrom\u001b[39;00m \u001b[38;5;21;01mpyfmi\u001b[39;00m \u001b[38;5;28;01mimport\u001b[39;00m load_fmu\n\u001b[0;32m     62\u001b[0m \u001b[38;5;28;01mfrom\u001b[39;00m \u001b[38;5;21;01mpyfmi\u001b[39;00m\u001b[38;5;21;01m.\u001b[39;00m\u001b[38;5;21;01mfmi\u001b[39;00m \u001b[38;5;28;01mimport\u001b[39;00m FMUException\n\u001b[0;32m     63\u001b[0m \u001b[38;5;28;01mfrom\u001b[39;00m \u001b[38;5;21;01mitertools\u001b[39;00m \u001b[38;5;28;01mimport\u001b[39;00m cycle\n",
      "\u001b[1;31mModuleNotFoundError\u001b[0m: No module named 'pyfmi'"
     ]
    }
   ],
   "source": [
    "run -i BPL_TEST2_Perfusion_explore.py"
   ]
  },
  {
   "cell_type": "code",
   "execution_count": 2,
   "metadata": {
    "id": "HUFhuE-H4RCw"
   },
   "outputs": [],
   "source": [
    "%matplotlib inline\n",
    "plt.rcParams['figure.figsize'] = [25/2.54, 20/2.54]"
   ]
  },
  {
   "cell_type": "code",
   "execution_count": 3,
   "metadata": {
    "id": "-Y3NHWIj4TZ6"
   },
   "outputs": [
    {
     "ename": "NameError",
     "evalue": "name 'par' is not defined",
     "output_type": "error",
     "traceback": [
      "\u001b[1;31m---------------------------------------------------------------------------\u001b[0m",
      "\u001b[1;31mNameError\u001b[0m                                 Traceback (most recent call last)",
      "Cell \u001b[1;32mIn [3], line 2\u001b[0m\n\u001b[0;32m      1\u001b[0m \u001b[38;5;66;03m# Process parameters used throughout\u001b[39;00m\n\u001b[1;32m----> 2\u001b[0m \u001b[43mpar\u001b[49m(Y\u001b[38;5;241m=\u001b[39m\u001b[38;5;241m0.5\u001b[39m, qSmax\u001b[38;5;241m=\u001b[39m\u001b[38;5;241m0.75\u001b[39m, Ks\u001b[38;5;241m=\u001b[39m\u001b[38;5;241m0.1\u001b[39m)                                      \u001b[38;5;66;03m# Culture\u001b[39;00m\n\u001b[0;32m      3\u001b[0m par(filter_eps\u001b[38;5;241m=\u001b[39m\u001b[38;5;241m0.10\u001b[39m, filter_alpha_X\u001b[38;5;241m=\u001b[39m\u001b[38;5;241m0.02\u001b[39m, filter_alpha_S\u001b[38;5;241m=\u001b[39m\u001b[38;5;241m0.10\u001b[39m)      \u001b[38;5;66;03m# Filter\u001b[39;00m\n\u001b[0;32m      4\u001b[0m par(S_in\u001b[38;5;241m=\u001b[39m\u001b[38;5;241m30.0\u001b[39m)                                                      \u001b[38;5;66;03m# Inlet substrate conc \u001b[39;00m\n",
      "\u001b[1;31mNameError\u001b[0m: name 'par' is not defined"
     ]
    }
   ],
   "source": [
    "# Process parameters used throughout\n",
    "par(Y=0.5, qSmax=0.75, Ks=0.1)                                      # Culture\n",
    "par(filter_eps=0.10, filter_alpha_X=0.02, filter_alpha_S=0.10)      # Filter\n",
    "par(S_in=30.0)                                                      # Inlet substrate conc \n",
    "init(V_0=1.0, VX_0=1.0)                                             # Process initial conditions that are common\n",
    "eps = parDict['filter_eps']                                         # Pump schedule parameter \n"
   ]
  },
  {
   "cell_type": "code",
   "execution_count": null,
   "metadata": {
    "colab": {
     "base_uri": "https://localhost:8080/",
     "height": 506
    },
    "id": "QoyqEIHU6xDV",
    "outputId": "119d4b1b-da1e-4c28-81c6-7e471ccbbd8b"
   },
   "outputs": [],
   "source": [
    "# Simulation of process with flow rate clot to wash-out for chemostat\n",
    "\n",
    "init(VS_0=20)                                            # Process initial                   \n",
    "par(pump1_t1=10, pump2_t1=10)                            # Pump schedule - recycle flow 10 times perfusion flow\n",
    "par(pump1_F1=2.5*0.155, pump2_F1=2.5*0.155/eps)  \n",
    "par(pump1_t2=940, pump2_t2=940, pump1_t3=950, pump2_t3=950, pump1_t4=960, pump2_t4=960)\n",
    "\n",
    "newplot(title='Perfusion cultivation - flow rate corresponding to maximal rate for chemostat')\n",
    "simu(60)"
   ]
  },
  {
   "cell_type": "code",
   "execution_count": null,
   "metadata": {
    "colab": {
     "base_uri": "https://localhost:8080/"
    },
    "id": "Viu05MEF60Q-",
    "outputId": "cc39c192-7a5c-4132-cea9-246fe4092ba6"
   },
   "outputs": [],
   "source": [
    "# Concentration factor of the filter\n",
    "c=model.get('filter.retentate.c[1]')[0]/model.get('filter.inlet.c[1]')[0]\n",
    "print('Conc factor of perfusion filter =', np.round(c,3))"
   ]
  },
  {
   "cell_type": "code",
   "execution_count": null,
   "metadata": {
    "colab": {
     "base_uri": "https://localhost:8080/"
    },
    "id": "bO9Ur8dp64K6",
    "outputId": "5b130f12-7877-4b68-fcd2-0af02353a391"
   },
   "outputs": [],
   "source": [
    "c_data=sim_res['filter.retentate.c[1]']/sim_res['filter.inlet.c[1]']\n",
    "print('Conc factor variation', np.round(min(c_data[151:]), 3), np.round(max(c_data[151:]),3))"
   ]
  },
  {
   "cell_type": "code",
   "execution_count": null,
   "metadata": {
    "colab": {
     "base_uri": "https://localhost:8080/",
     "height": 506
    },
    "id": "HH4wlMf-68Cm",
    "outputId": "f5a56bfc-0a3f-4868-ebf0-7a634566086c"
   },
   "outputs": [],
   "source": [
    "# Simulation of process with step-wise increase of pefusion rate until wash-out.\n",
    "# This means that re-circulation rate change at the same time as the perfusion rate.\n",
    "\n",
    "init(VS_0=150)                                           # Process initial varied                                         \n",
    "\n",
    "par(pump1_t1=12, pump2_t1=12)                            # Pump schedule - recycle flow 10 times perfusion flow\n",
    "par(pump1_F1=2.5*0.155, pump2_F1=2.5*0.155/eps)  \n",
    "par(pump1_t2=22, pump2_t2=22) \n",
    "par(pump1_F2=2.5*0.35, pump2_F2=2.5*0.35/eps) \n",
    "par(pump1_t3=32, pump2_t3=32) \n",
    "par(pump1_F3=2.5*0.63, pump2_F3=2.5*0.63/eps) \n",
    "par(pump1_t4=42, pump2_t4=42) \n",
    "par(pump1_F4=2.5*0.83, pump2_F4=2.5*0.83/eps) \n",
    "\n",
    "newplot(title='Perfusion cultivation - step wise increase of perfusion rate and max productivity 4x chemostat')\n",
    "simu(60)"
   ]
  },
  {
   "cell_type": "code",
   "execution_count": null,
   "metadata": {
    "colab": {
     "base_uri": "https://localhost:8080/"
    },
    "id": "40WwRSFD7ADP",
    "outputId": "f89c6a44-03ec-465d-c5fb-8103de89ff5c"
   },
   "outputs": [],
   "source": [
    "# Simulation without a plot and just to check typical values at high production rate\n",
    "simu(40)\n",
    "c_data=sim_res['filter.retentate.c[1]']/sim_res['filter.inlet.c[1]']\n",
    "print('Conc factor variation', np.round(min(c_data[190:]), 3), 'to', np.round(max(c_data[190:]),3))"
   ]
  },
  {
   "cell_type": "code",
   "execution_count": null,
   "metadata": {
    "colab": {
     "base_uri": "https://localhost:8080/"
    },
    "id": "-HRUnkPA7J-q",
    "outputId": "06fdeb3e-94a6-4c78-ff88-aea98169df6d"
   },
   "outputs": [],
   "source": [
    "describe('cstrProdMax')"
   ]
  },
  {
   "cell_type": "code",
   "execution_count": null,
   "metadata": {
    "colab": {
     "base_uri": "https://localhost:8080/"
    },
    "id": "Y2_XnnSJ7MxO",
    "outputId": "e9a31aef-e0e9-497c-fcbe-be3531e982cc"
   },
   "outputs": [],
   "source": [
    "# The maximal biomass productivity before washout is obtained aroudn 40 hours\n",
    "np.round(model.get('harvesttank.inlet.F')[0]*model.get('harvesttank.inlet.c[1]')[0],1)"
   ]
  },
  {
   "cell_type": "code",
   "execution_count": null,
   "metadata": {
    "colab": {
     "base_uri": "https://localhost:8080/"
    },
    "id": "nByd9ytr7P1Q",
    "outputId": "ab4935af-e179-44b4-a6e6-bf7ebeb17644"
   },
   "outputs": [],
   "source": [
    "# Thus perfusion (with this filter) brings a productivity improvement of about\n",
    "np.round(23.5/5.6,1)"
   ]
  },
  {
   "cell_type": "code",
   "execution_count": null,
   "metadata": {
    "colab": {
     "base_uri": "https://localhost:8080/"
    },
    "id": "xlYHIR7s7UGB",
    "outputId": "45b86152-a078-41d9-ce83-487775f3a8df"
   },
   "outputs": [],
   "source": [
    "# Finally we check the filter flow rates at time 40 hour - note the negative sign for outlfow\n",
    "model.get('filter.inlet.F')[0]"
   ]
  },
  {
   "cell_type": "code",
   "execution_count": null,
   "metadata": {
    "colab": {
     "base_uri": "https://localhost:8080/"
    },
    "id": "LUdmmQ767Xiz",
    "outputId": "6d144faf-5aad-43c4-a031-641839158321"
   },
   "outputs": [],
   "source": [
    "model.get('filter.filtrate.F')[0]"
   ]
  },
  {
   "cell_type": "code",
   "execution_count": null,
   "metadata": {
    "colab": {
     "base_uri": "https://localhost:8080/"
    },
    "id": "qgZ6VrOh7aRi",
    "outputId": "27a7a07b-da4a-455b-fdee-4e2a8163a53e"
   },
   "outputs": [],
   "source": [
    "model.get('filter.retentate.F')[0]"
   ]
  },
  {
   "cell_type": "markdown",
   "metadata": {
    "id": "Jn90LYlW7hBw"
   },
   "source": [
    "## Summary\n",
    "* The perfusion filter had a concentration factor of cells around 1.08 and re-cycling flow was set to a factor 10 higher than the perfusion rate and changed when perfusion rate was change to keep the ratio factor 10. \n",
    "* The first simulation showed that by cell retention using perfusion filter the process could be run at a perfusion flow rate at the maximal flow rate possible for corresponding chemostat culture and cell concetration increased steadily.\n",
    "* The second simulation showed that with a proper startup cell concentration, the cell concentration remained constant when perfusion rate increased in a similar way as what we see in a chemostat. \n",
    "* The second simulation also showed that biomass productivity in this case was increased by a factor 4.2 compared to chemostat.\n",
    "* If the perfusion rate increased to higher levels washout started but the decrase of cell concentration was slow.\n",
    "\n",
    "Some of you who read this may have your perfusion experience with CHO-cultures. For such cultures the cell concentration do increase with increase of perfusion rate and there are understood reasons for that. But for this simplifed process as well as microbial processes they typically keep cell concentration constant when flow rate is chaged, and that under quite wide conditions. I will try come back to this phenomena in a later notebook."
   ]
  },
  {
   "cell_type": "markdown",
   "metadata": {},
   "source": [
    "## Appendix"
   ]
  },
  {
   "cell_type": "code",
   "execution_count": null,
   "metadata": {},
   "outputs": [],
   "source": [
    "disp('culture')"
   ]
  },
  {
   "cell_type": "code",
   "execution_count": null,
   "metadata": {},
   "outputs": [],
   "source": [
    "describe('mu')"
   ]
  },
  {
   "cell_type": "code",
   "execution_count": null,
   "metadata": {
    "colab": {
     "base_uri": "https://localhost:8080/"
    },
    "id": "TWAYSaP87ctd",
    "outputId": "cf477d8b-e566-479a-a7c9-7d3955f88f5f"
   },
   "outputs": [],
   "source": [
    "# List of components in the process setup and also a couple of other things like liquidphase and D\n",
    "describe('parts')"
   ]
  },
  {
   "cell_type": "code",
   "execution_count": null,
   "metadata": {},
   "outputs": [],
   "source": [
    "describe('MSL')"
   ]
  },
  {
   "cell_type": "code",
   "execution_count": null,
   "metadata": {
    "colab": {
     "base_uri": "https://localhost:8080/"
    },
    "id": "fr8YZScu7nNy",
    "outputId": "9fb9358b-17df-4a21-c17e-3f4bbaa705be"
   },
   "outputs": [],
   "source": [
    "system_info()"
   ]
  },
  {
   "cell_type": "code",
   "execution_count": null,
   "metadata": {
    "id": "FHx0NsS47ppj"
   },
   "outputs": [],
   "source": []
  }
 ],
 "metadata": {
  "colab": {
   "authorship_tag": "ABX9TyMnUpAZ03Rl9kTHaQlTVgo0",
   "collapsed_sections": [],
   "include_colab_link": true,
   "provenance": []
  },
  "kernelspec": {
   "display_name": "Python 3 (ipykernel)",
   "language": "python",
   "name": "python3"
  },
  "language_info": {
   "codemirror_mode": {
    "name": "ipython",
    "version": 3
   },
   "file_extension": ".py",
   "mimetype": "text/x-python",
   "name": "python",
   "nbconvert_exporter": "python",
   "pygments_lexer": "ipython3",
   "version": "3.9.16"
  }
 },
 "nbformat": 4,
 "nbformat_minor": 4
}
