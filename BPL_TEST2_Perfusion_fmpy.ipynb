{
 "cells": [
  {
   "cell_type": "markdown",
   "metadata": {
    "id": "UTETJm3l6heL"
   },
   "source": [
    "# BPL_TEST2_Perfusion - demo\n",
    "\n",
    "This notebook explore perfusion cultivation in comparison with ordinary continuous cultivation (chemostat) and use comparable settings to earlier notebook. Further you see here examples of interaction with the simplified commands par(), init(), simu() etc as well as direct interaction with the FMU which is called \"model\" here. The last simulation is always available in the workspace and called \"sim_res\". Note that describe() brings mainly up from descriptive information from the Modelica code from the FMU but is complemented by some information given in the Python setup file."
   ]
  },
  {
   "cell_type": "code",
   "execution_count": 1,
   "metadata": {
    "colab": {
     "base_uri": "https://localhost:8080/"
    },
    "id": "b-y82jZY33cO",
    "outputId": "4c8491f9-9fd0-4a34-9ea1-cb7facd393b2"
   },
   "outputs": [
    {
     "name": "stdout",
     "output_type": "stream",
     "text": [
      "Windows - run FMU pre-compiled JModelica 2.14\n",
      "\n",
      "Model for bioreactor has been setup. Key commands:\n",
      " - par()       - change of parameters and initial values\n",
      " - init()      - change initial values only\n",
      " - simu()      - simulate and plot\n",
      " - newplot()   - make a new plot\n",
      " - show()      - show plot from previous simulation\n",
      " - disp()      - display parameters and initial values from the last simulation\n",
      " - describe()  - describe culture, broth, parameters, variables with values/units\n",
      "\n",
      "Note that both disp() and describe() takes values from the last simulation\n",
      "\n",
      "Brief information about a command by help(), eg help(simu)\n",
      "Key system information is listed with the command system_info()\n"
     ]
    }
   ],
   "source": [
    "run -i BPL_TEST2_Perfusion_fmpy_explore.py"
   ]
  },
  {
   "cell_type": "code",
   "execution_count": 2,
   "metadata": {
    "id": "HUFhuE-H4RCw"
   },
   "outputs": [],
   "source": [
    "%matplotlib inline\n",
    "plt.rcParams['figure.figsize'] = [25/2.54, 20/2.54]"
   ]
  },
  {
   "cell_type": "code",
   "execution_count": 3,
   "metadata": {
    "id": "-Y3NHWIj4TZ6"
   },
   "outputs": [],
   "source": [
    "# Process parameters used throughout\n",
    "par(Y=0.5, qSmax=0.75, Ks=0.1)                                      # Culture\n",
    "par(filter_eps=0.10, filter_alpha_X=0.02, filter_alpha_S=0.10)      # Filter\n",
    "par(S_in=30.0)                                                      # Inlet substrate conc \n",
    "init(V_0=1.0, VX_0=1.0)                                             # Process initial conditions that are common\n",
    "eps = parDict['filter_eps']                                         # Pump schedule parameter \n"
   ]
  },
  {
   "cell_type": "code",
   "execution_count": 9,
   "metadata": {
    "colab": {
     "base_uri": "https://localhost:8080/",
     "height": 506
    },
    "id": "QoyqEIHU6xDV",
    "outputId": "119d4b1b-da1e-4c28-81c6-7e471ccbbd8b"
   },
   "outputs": [
    {
     "ename": "FMICallException",
     "evalue": "fmi2DoStep failed with status 3 (error).",
     "output_type": "error",
     "traceback": [
      "\u001b[1;31m---------------------------------------------------------------------------\u001b[0m",
      "\u001b[1;31mFMICallException\u001b[0m                          Traceback (most recent call last)",
      "Cell \u001b[1;32mIn [9], line 9\u001b[0m\n\u001b[0;32m      6\u001b[0m par(pump1_t2\u001b[38;5;241m=\u001b[39m\u001b[38;5;241m940\u001b[39m, pump2_t2\u001b[38;5;241m=\u001b[39m\u001b[38;5;241m940\u001b[39m, pump1_t3\u001b[38;5;241m=\u001b[39m\u001b[38;5;241m950\u001b[39m, pump2_t3\u001b[38;5;241m=\u001b[39m\u001b[38;5;241m950\u001b[39m, pump1_t4\u001b[38;5;241m=\u001b[39m\u001b[38;5;241m960\u001b[39m, pump2_t4\u001b[38;5;241m=\u001b[39m\u001b[38;5;241m960\u001b[39m)\n\u001b[0;32m      8\u001b[0m newplot(title\u001b[38;5;241m=\u001b[39m\u001b[38;5;124m'\u001b[39m\u001b[38;5;124mPerfusion cultivation - flow rate corresponding to maximal rate for chemostat\u001b[39m\u001b[38;5;124m'\u001b[39m)\n\u001b[1;32m----> 9\u001b[0m \u001b[43msimu\u001b[49m\u001b[43m(\u001b[49m\u001b[38;5;241;43m10\u001b[39;49m\u001b[43m)\u001b[49m\n",
      "File \u001b[1;32m\\\\VBoxSvr\\Modelica\\GitHub\\Colab\\BPL_TEST2_Perfusion\\BPL_TEST2_Perfusion_fmpy_explore.py:558\u001b[0m, in \u001b[0;36msimu\u001b[1;34m(simulationTime, mode, options, diagrams)\u001b[0m\n\u001b[0;32m    555\u001b[0m    start_values \u001b[38;5;241m=\u001b[39m {parLocation[k]:parDict[k] \u001b[38;5;28;01mfor\u001b[39;00m k \u001b[38;5;129;01min\u001b[39;00m parDict\u001b[38;5;241m.\u001b[39mkeys()}\n\u001b[0;32m    557\u001b[0m    \u001b[38;5;66;03m# Simulate\u001b[39;00m\n\u001b[1;32m--> 558\u001b[0m    sim_res \u001b[38;5;241m=\u001b[39m \u001b[43msimulate_fmu\u001b[49m\u001b[43m(\u001b[49m\n\u001b[0;32m    559\u001b[0m \u001b[43m      \u001b[49m\u001b[43mfilename\u001b[49m\u001b[43m \u001b[49m\u001b[38;5;241;43m=\u001b[39;49m\u001b[43m \u001b[49m\u001b[43mfmu_model\u001b[49m\u001b[43m,\u001b[49m\n\u001b[0;32m    560\u001b[0m \u001b[43m      \u001b[49m\u001b[43mvalidate\u001b[49m\u001b[43m \u001b[49m\u001b[38;5;241;43m=\u001b[39;49m\u001b[43m \u001b[49m\u001b[38;5;28;43;01mFalse\u001b[39;49;00m\u001b[43m,\u001b[49m\n\u001b[0;32m    561\u001b[0m \u001b[43m      \u001b[49m\u001b[43mstart_time\u001b[49m\u001b[43m \u001b[49m\u001b[38;5;241;43m=\u001b[39;49m\u001b[43m \u001b[49m\u001b[38;5;241;43m0\u001b[39;49m\u001b[43m,\u001b[49m\n\u001b[0;32m    562\u001b[0m \u001b[43m      \u001b[49m\u001b[43mstop_time\u001b[49m\u001b[43m \u001b[49m\u001b[38;5;241;43m=\u001b[39;49m\u001b[43m \u001b[49m\u001b[43msimulationTime\u001b[49m\u001b[43m,\u001b[49m\n\u001b[0;32m    563\u001b[0m \u001b[43m      \u001b[49m\u001b[43moutput_interval\u001b[49m\u001b[43m \u001b[49m\u001b[38;5;241;43m=\u001b[39;49m\u001b[43m \u001b[49m\u001b[43msimulationTime\u001b[49m\u001b[38;5;241;43m/\u001b[39;49m\u001b[43moptions\u001b[49m\u001b[43m[\u001b[49m\u001b[38;5;124;43m'\u001b[39;49m\u001b[38;5;124;43mncp\u001b[39;49m\u001b[38;5;124;43m'\u001b[39;49m\u001b[43m]\u001b[49m\u001b[43m,\u001b[49m\n\u001b[0;32m    564\u001b[0m \u001b[43m      \u001b[49m\u001b[43mrecord_events\u001b[49m\u001b[43m \u001b[49m\u001b[38;5;241;43m=\u001b[39;49m\u001b[43m \u001b[49m\u001b[38;5;28;43;01mTrue\u001b[39;49;00m\u001b[43m,\u001b[49m\n\u001b[0;32m    565\u001b[0m \u001b[43m      \u001b[49m\u001b[43mstart_values\u001b[49m\u001b[43m \u001b[49m\u001b[38;5;241;43m=\u001b[39;49m\u001b[43m \u001b[49m\u001b[43mstart_values\u001b[49m\u001b[43m,\u001b[49m\n\u001b[0;32m    566\u001b[0m \u001b[43m      \u001b[49m\u001b[43mfmi_call_logger\u001b[49m\u001b[43m \u001b[49m\u001b[38;5;241;43m=\u001b[39;49m\u001b[43m \u001b[49m\u001b[38;5;28;43;01mNone\u001b[39;49;00m\u001b[43m,\u001b[49m\n\u001b[0;32m    567\u001b[0m \u001b[43m      \u001b[49m\u001b[43moutput\u001b[49m\u001b[43m \u001b[49m\u001b[38;5;241;43m=\u001b[39;49m\u001b[43m \u001b[49m\u001b[38;5;28;43mlist\u001b[39;49m\u001b[43m(\u001b[49m\u001b[38;5;28;43mset\u001b[39;49m\u001b[43m(\u001b[49m\u001b[43mextract_variables\u001b[49m\u001b[43m(\u001b[49m\u001b[43mdiagrams\u001b[49m\u001b[43m)\u001b[49m\u001b[43m \u001b[49m\u001b[38;5;241;43m+\u001b[39;49m\u001b[43m \u001b[49m\u001b[38;5;28;43mlist\u001b[39;49m\u001b[43m(\u001b[49m\u001b[43mstateDict\u001b[49m\u001b[38;5;241;43m.\u001b[39;49m\u001b[43mkeys\u001b[49m\u001b[43m(\u001b[49m\u001b[43m)\u001b[49m\u001b[43m)\u001b[49m\u001b[43m \u001b[49m\u001b[38;5;241;43m+\u001b[39;49m\u001b[43m \u001b[49m\u001b[43mkey_variables\u001b[49m\u001b[43m)\u001b[49m\u001b[43m)\u001b[49m\n\u001b[0;32m    568\u001b[0m \u001b[43m   \u001b[49m\u001b[43m)\u001b[49m\n\u001b[0;32m    570\u001b[0m    simulationDone \u001b[38;5;241m=\u001b[39m \u001b[38;5;28;01mTrue\u001b[39;00m\n\u001b[0;32m    572\u001b[0m \u001b[38;5;28;01melif\u001b[39;00m mode \u001b[38;5;129;01min\u001b[39;00m [\u001b[38;5;124m'\u001b[39m\u001b[38;5;124mContinued\u001b[39m\u001b[38;5;124m'\u001b[39m, \u001b[38;5;124m'\u001b[39m\u001b[38;5;124mcontinued\u001b[39m\u001b[38;5;124m'\u001b[39m, \u001b[38;5;124m'\u001b[39m\u001b[38;5;124mcont\u001b[39m\u001b[38;5;124m'\u001b[39m]:\n",
      "File \u001b[1;32m~\\miniconda3\\envs\\fmpylab\\lib\\site-packages\\fmpy\\simulation.py:758\u001b[0m, in \u001b[0;36msimulate_fmu\u001b[1;34m(filename, validate, start_time, stop_time, solver, step_size, relative_tolerance, output_interval, record_events, fmi_type, start_values, apply_default_start_values, input, output, timeout, debug_logging, visible, logger, fmi_call_logger, step_finished, model_description, fmu_instance, set_input_derivatives, remote_platform, early_return_allowed, use_event_mode, initialize, terminate, fmu_state)\u001b[0m\n\u001b[0;32m    756\u001b[0m     result \u001b[38;5;241m=\u001b[39m simulateME(model_description, fmu, start_time, stop_time, solver, step_size, relative_tolerance, start_values, apply_default_start_values, \u001b[38;5;28minput\u001b[39m, output, output_interval, record_events, timeout, step_finished, validate)\n\u001b[0;32m    757\u001b[0m \u001b[38;5;28;01melif\u001b[39;00m fmi_type \u001b[38;5;241m==\u001b[39m \u001b[38;5;124m'\u001b[39m\u001b[38;5;124mCoSimulation\u001b[39m\u001b[38;5;124m'\u001b[39m:\n\u001b[1;32m--> 758\u001b[0m     result \u001b[38;5;241m=\u001b[39m \u001b[43msimulateCS\u001b[49m\u001b[43m(\u001b[49m\u001b[43mmodel_description\u001b[49m\u001b[43m,\u001b[49m\u001b[43m \u001b[49m\u001b[43mfmu\u001b[49m\u001b[43m,\u001b[49m\u001b[43m \u001b[49m\u001b[43mstart_time\u001b[49m\u001b[43m,\u001b[49m\u001b[43m \u001b[49m\u001b[43mstop_time\u001b[49m\u001b[43m,\u001b[49m\u001b[43m \u001b[49m\u001b[43mrelative_tolerance\u001b[49m\u001b[43m,\u001b[49m\u001b[43m \u001b[49m\u001b[43mstart_values\u001b[49m\u001b[43m,\u001b[49m\u001b[43m \u001b[49m\u001b[43mapply_default_start_values\u001b[49m\u001b[43m,\u001b[49m\u001b[43m \u001b[49m\u001b[38;5;28;43minput\u001b[39;49m\u001b[43m,\u001b[49m\u001b[43m \u001b[49m\u001b[43moutput\u001b[49m\u001b[43m,\u001b[49m\u001b[43m \u001b[49m\u001b[43moutput_interval\u001b[49m\u001b[43m,\u001b[49m\u001b[43m \u001b[49m\u001b[43mtimeout\u001b[49m\u001b[43m,\u001b[49m\u001b[43m \u001b[49m\u001b[43mstep_finished\u001b[49m\u001b[43m,\u001b[49m\u001b[43m \u001b[49m\u001b[43mset_input_derivatives\u001b[49m\u001b[43m,\u001b[49m\u001b[43m \u001b[49m\u001b[43muse_event_mode\u001b[49m\u001b[43m,\u001b[49m\u001b[43m \u001b[49m\u001b[43mearly_return_allowed\u001b[49m\u001b[43m,\u001b[49m\u001b[43m \u001b[49m\u001b[43mvalidate\u001b[49m\u001b[43m,\u001b[49m\u001b[43m \u001b[49m\u001b[43minitialize\u001b[49m\u001b[43m,\u001b[49m\u001b[43m \u001b[49m\u001b[43mterminate\u001b[49m\u001b[43m)\u001b[49m\n\u001b[0;32m    760\u001b[0m \u001b[38;5;28;01mif\u001b[39;00m fmu_instance \u001b[38;5;129;01mis\u001b[39;00m \u001b[38;5;28;01mNone\u001b[39;00m:\n\u001b[0;32m    761\u001b[0m     fmu\u001b[38;5;241m.\u001b[39mfreeInstance()\n",
      "File \u001b[1;32m~\\miniconda3\\envs\\fmpylab\\lib\\site-packages\\fmpy\\simulation.py:1270\u001b[0m, in \u001b[0;36msimulateCS\u001b[1;34m(model_description, fmu, start_time, stop_time, relative_tolerance, start_values, apply_default_start_values, input_signals, output, output_interval, timeout, step_finished, set_input_derivatives, use_event_mode, early_return_allowed, validate, initialize, terminate)\u001b[0m\n\u001b[0;32m   1268\u001b[0m                 \u001b[38;5;28;01mbreak\u001b[39;00m\n\u001b[0;32m   1269\u001b[0m         \u001b[38;5;28;01melse\u001b[39;00m:\n\u001b[1;32m-> 1270\u001b[0m             \u001b[38;5;28;01mraise\u001b[39;00m e\n\u001b[0;32m   1271\u001b[0m \u001b[38;5;28;01melse\u001b[39;00m:\n\u001b[0;32m   1273\u001b[0m     t_input_event \u001b[38;5;241m=\u001b[39m \u001b[38;5;28minput\u001b[39m\u001b[38;5;241m.\u001b[39mnextEvent(time)\n",
      "File \u001b[1;32m~\\miniconda3\\envs\\fmpylab\\lib\\site-packages\\fmpy\\simulation.py:1256\u001b[0m, in \u001b[0;36msimulateCS\u001b[1;34m(model_description, fmu, start_time, stop_time, relative_tolerance, start_values, apply_default_start_values, input_signals, output, output_interval, timeout, step_finished, set_input_derivatives, use_event_mode, early_return_allowed, validate, initialize, terminate)\u001b[0m\n\u001b[0;32m   1254\u001b[0m \u001b[38;5;28;01mtry\u001b[39;00m:\n\u001b[0;32m   1255\u001b[0m     \u001b[38;5;28;01mif\u001b[39;00m time \u001b[38;5;241m+\u001b[39m output_interval \u001b[38;5;241m<\u001b[39m\u001b[38;5;241m=\u001b[39m stop_time:\n\u001b[1;32m-> 1256\u001b[0m         \u001b[43mfmu\u001b[49m\u001b[38;5;241;43m.\u001b[39;49m\u001b[43mdoStep\u001b[49m\u001b[43m(\u001b[49m\u001b[43mcurrentCommunicationPoint\u001b[49m\u001b[38;5;241;43m=\u001b[39;49m\u001b[43mtime\u001b[49m\u001b[43m,\u001b[49m\u001b[43m \u001b[49m\u001b[43mcommunicationStepSize\u001b[49m\u001b[38;5;241;43m=\u001b[39;49m\u001b[43moutput_interval\u001b[49m\u001b[43m)\u001b[49m\n\u001b[0;32m   1257\u001b[0m         n_steps \u001b[38;5;241m+\u001b[39m\u001b[38;5;241m=\u001b[39m \u001b[38;5;241m1\u001b[39m\n\u001b[0;32m   1258\u001b[0m         time \u001b[38;5;241m=\u001b[39m n_steps \u001b[38;5;241m*\u001b[39m output_interval\n",
      "File \u001b[1;32m~\\miniconda3\\envs\\fmpylab\\lib\\site-packages\\fmpy\\fmi2.py:580\u001b[0m, in \u001b[0;36mFMU2Slave.doStep\u001b[1;34m(self, currentCommunicationPoint, communicationStepSize, noSetFMUStatePriorToCurrentPoint)\u001b[0m\n\u001b[0;32m    579\u001b[0m \u001b[38;5;28;01mdef\u001b[39;00m \u001b[38;5;21mdoStep\u001b[39m(\u001b[38;5;28mself\u001b[39m, currentCommunicationPoint, communicationStepSize, noSetFMUStatePriorToCurrentPoint\u001b[38;5;241m=\u001b[39mfmi2True):\n\u001b[1;32m--> 580\u001b[0m     \u001b[38;5;28;43mself\u001b[39;49m\u001b[38;5;241;43m.\u001b[39;49m\u001b[43mfmi2DoStep\u001b[49m\u001b[43m(\u001b[49m\u001b[38;5;28;43mself\u001b[39;49m\u001b[38;5;241;43m.\u001b[39;49m\u001b[43mcomponent\u001b[49m\u001b[43m,\u001b[49m\u001b[43m \u001b[49m\u001b[43mcurrentCommunicationPoint\u001b[49m\u001b[43m,\u001b[49m\u001b[43m \u001b[49m\u001b[43mcommunicationStepSize\u001b[49m\u001b[43m,\u001b[49m\u001b[43m \u001b[49m\u001b[43mnoSetFMUStatePriorToCurrentPoint\u001b[49m\u001b[43m)\u001b[49m\n",
      "File \u001b[1;32m~\\miniconda3\\envs\\fmpylab\\lib\\site-packages\\fmpy\\fmi2.py:215\u001b[0m, in \u001b[0;36m_FMU2._fmi2Function.<locals>.w\u001b[1;34m(*args)\u001b[0m\n\u001b[0;32m    212\u001b[0m \u001b[38;5;28;01mif\u001b[39;00m restype \u001b[38;5;241m==\u001b[39m fmi2Status:  \u001b[38;5;66;03m# status code\u001b[39;00m\n\u001b[0;32m    213\u001b[0m     \u001b[38;5;66;03m# check the status code\u001b[39;00m\n\u001b[0;32m    214\u001b[0m     \u001b[38;5;28;01mif\u001b[39;00m res \u001b[38;5;241m>\u001b[39m fmi2Warning:\n\u001b[1;32m--> 215\u001b[0m         \u001b[38;5;28;01mraise\u001b[39;00m FMICallException(function\u001b[38;5;241m=\u001b[39mfname, status\u001b[38;5;241m=\u001b[39mres)\n\u001b[0;32m    217\u001b[0m \u001b[38;5;28;01mreturn\u001b[39;00m res\n",
      "\u001b[1;31mFMICallException\u001b[0m: fmi2DoStep failed with status 3 (error)."
     ]
    },
    {
     "data": {
      "image/png": "[encoded data removed]",
      "text/plain": [
       "<Figure size 984.252x787.402 with 5 Axes>"
      ]
     },
     "metadata": {},
     "output_type": "display_data"
    }
   ],
   "source": [
    "# Simulation of process with flow rate clot to wash-out for chemostat\n",
    "\n",
    "init(VS_0=20)                                            # Process initial                   \n",
    "par(pump1_t1=10, pump2_t1=10)                            # Pump schedule - recycle flow 10 times perfusion flow\n",
    "par(pump1_F1=2.5*0.155, pump2_F1=2.5*0.155/eps)  \n",
    "par(pump1_t2=940, pump2_t2=940, pump1_t3=950, pump2_t3=950, pump1_t4=960, pump2_t4=960)\n",
    "\n",
    "newplot(title='Perfusion cultivation - flow rate corresponding to maximal rate for chemostat')\n",
    "simu(10)"
   ]
  },
  {
   "cell_type": "code",
   "execution_count": null,
   "metadata": {
    "colab": {
     "base_uri": "https://localhost:8080/"
    },
    "id": "Viu05MEF60Q-",
    "outputId": "cc39c192-7a5c-4132-cea9-246fe4092ba6"
   },
   "outputs": [],
   "source": [
    "# Concentration factor of the filter\n",
    "c=model_get('filter.retentate.c[1]')/model_get('filter.inlet.c[1]')\n",
    "print('Conc factor of perfusion filter =', np.round(c,3))"
   ]
  },
  {
   "cell_type": "code",
   "execution_count": null,
   "metadata": {
    "colab": {
     "base_uri": "https://localhost:8080/"
    },
    "id": "bO9Ur8dp64K6",
    "outputId": "5b130f12-7877-4b68-fcd2-0af02353a391"
   },
   "outputs": [],
   "source": [
    "c_data=sim_res['filter.retentate.c[1]']/sim_res['filter.inlet.c[1]']\n",
    "print('Conc factor variation', np.round(min(c_data[151:]), 3),'to', np.round(max(c_data[151:]),3))"
   ]
  },
  {
   "cell_type": "code",
   "execution_count": null,
   "metadata": {
    "colab": {
     "base_uri": "https://localhost:8080/",
     "height": 506
    },
    "id": "HH4wlMf-68Cm",
    "outputId": "f5a56bfc-0a3f-4868-ebf0-7a634566086c"
   },
   "outputs": [],
   "source": [
    "# Simulation of process with step-wise increase of pefusion rate until wash-out.\n",
    "# This means that re-circulation rate change at the same time as the perfusion rate.\n",
    "\n",
    "init(VS_0=150)                                           # Process initial varied                                         \n",
    "\n",
    "par(pump1_t1=12, pump2_t1=12)                            # Pump schedule - recycle flow 10 times perfusion flow\n",
    "par(pump1_F1=2.5*0.155, pump2_F1=2.5*0.155/eps)  \n",
    "par(pump1_t2=22, pump2_t2=22) \n",
    "par(pump1_F2=2.5*0.35, pump2_F2=2.5*0.35/eps) \n",
    "par(pump1_t3=32, pump2_t3=32) \n",
    "par(pump1_F3=2.5*0.63, pump2_F3=2.5*0.63/eps) \n",
    "par(pump1_t4=42, pump2_t4=42) \n",
    "par(pump1_F4=2.5*0.83, pump2_F4=2.5*0.83/eps) \n",
    "\n",
    "newplot(title='Perfusion cultivation - step wise increase of perfusion rate and max productivity 4x chemostat')\n",
    "simu(60)"
   ]
  },
  {
   "cell_type": "code",
   "execution_count": null,
   "metadata": {
    "colab": {
     "base_uri": "https://localhost:8080/"
    },
    "id": "40WwRSFD7ADP",
    "outputId": "f89c6a44-03ec-465d-c5fb-8103de89ff5c"
   },
   "outputs": [],
   "source": [
    "# Simulation without a plot and just to check typical values at high production rate\n",
    "simu(40)\n",
    "c_data=sim_res['filter.retentate.c[1]'][304:]/sim_res['filter.inlet.c[1]'][304:]\n",
    "print('Conc factor variation', np.round(min(c_data[304:]), 3), 'to', np.round(max(c_data[304:]),3))"
   ]
  },
  {
   "cell_type": "code",
   "execution_count": null,
   "metadata": {
    "colab": {
     "base_uri": "https://localhost:8080/"
    },
    "id": "-HRUnkPA7J-q",
    "outputId": "06fdeb3e-94a6-4c78-ff88-aea98169df6d"
   },
   "outputs": [],
   "source": [
    "#describe('cstrProdMax')"
   ]
  },
  {
   "cell_type": "code",
   "execution_count": null,
   "metadata": {
    "colab": {
     "base_uri": "https://localhost:8080/"
    },
    "id": "Y2_XnnSJ7MxO",
    "outputId": "e9a31aef-e0e9-497c-fcbe-be3531e982cc"
   },
   "outputs": [],
   "source": [
    "# The maximal biomass productivity before washout is obtained aroudn 40 hours\n",
    "np.round(model_get('harvesttank.inlet.F')*model_get('harvesttank.inlet.c[1]'),1)"
   ]
  },
  {
   "cell_type": "code",
   "execution_count": null,
   "metadata": {
    "colab": {
     "base_uri": "https://localhost:8080/"
    },
    "id": "nByd9ytr7P1Q",
    "outputId": "ab4935af-e179-44b4-a6e6-bf7ebeb17644"
   },
   "outputs": [],
   "source": [
    "# Thus perfusion (with this filter) brings a productivity improvement of about\n",
    "np.round(23.5/5.6,1)"
   ]
  },
  {
   "cell_type": "code",
   "execution_count": null,
   "metadata": {
    "colab": {
     "base_uri": "https://localhost:8080/"
    },
    "id": "xlYHIR7s7UGB",
    "outputId": "45b86152-a078-41d9-ce83-487775f3a8df"
   },
   "outputs": [],
   "source": [
    "# Finally we check the filter flow rates at time 40 hour - note the negative sign for outlfow\n",
    "model_get('filter.inlet.F')"
   ]
  },
  {
   "cell_type": "code",
   "execution_count": null,
   "metadata": {
    "colab": {
     "base_uri": "https://localhost:8080/"
    },
    "id": "LUdmmQ767Xiz",
    "outputId": "6d144faf-5aad-43c4-a031-641839158321"
   },
   "outputs": [],
   "source": [
    "model_get('filter.filtrate.F')"
   ]
  },
  {
   "cell_type": "code",
   "execution_count": null,
   "metadata": {
    "colab": {
     "base_uri": "https://localhost:8080/"
    },
    "id": "qgZ6VrOh7aRi",
    "outputId": "27a7a07b-da4a-455b-fdee-4e2a8163a53e"
   },
   "outputs": [],
   "source": [
    "model_get('filter.retentate.F')"
   ]
  },
  {
   "cell_type": "markdown",
   "metadata": {
    "id": "Jn90LYlW7hBw"
   },
   "source": [
    "## Summary\n",
    "* The perfusion filter had a concentration factor of cells around 1.08 and re-cycling flow was set to a factor 10 higher than the perfusion rate and changed when perfusion rate was change to keep the ratio factor 10. \n",
    "* The first simulation showed that by cell retention using perfusion filter the process could be run at a perfusion flow rate at the maximal flow rate possible for corresponding chemostat culture and cell concetration increased steadily.\n",
    "* The second simulation showed that with a proper startup cell concentration, the cell concentration remained constant when perfusion rate increased in a similar way as what we see in a chemostat. \n",
    "* The second simulation also showed that biomass productivity in this case was increased by a factor 4.2 compared to chemostat.\n",
    "* If the perfusion rate increased to higher levels washout started but the decrase of cell concentration was slow.\n",
    "\n",
    "Some of you who read this may have your perfusion experience with CHO-cultures. For such cultures the cell concentration do increase with increase of perfusion rate and there are understood reasons for that. But for this simplifed process as well as microbial processes they typically keep cell concentration constant when flow rate is chaged, and that under quite wide conditions. I will try come back to this phenomena in a later notebook."
   ]
  },
  {
   "cell_type": "markdown",
   "metadata": {},
   "source": [
    "## Appendix"
   ]
  },
  {
   "cell_type": "code",
   "execution_count": null,
   "metadata": {},
   "outputs": [],
   "source": [
    "disp('culture')"
   ]
  },
  {
   "cell_type": "code",
   "execution_count": null,
   "metadata": {},
   "outputs": [],
   "source": [
    "describe('mu')"
   ]
  },
  {
   "cell_type": "code",
   "execution_count": null,
   "metadata": {
    "colab": {
     "base_uri": "https://localhost:8080/"
    },
    "id": "TWAYSaP87ctd",
    "outputId": "cf477d8b-e566-479a-a7c9-7d3955f88f5f"
   },
   "outputs": [],
   "source": [
    "# List of components in the process setup and also a couple of other things like liquidphase and D\n",
    "describe('parts')"
   ]
  },
  {
   "cell_type": "code",
   "execution_count": null,
   "metadata": {},
   "outputs": [],
   "source": [
    "describe('MSL')"
   ]
  },
  {
   "cell_type": "code",
   "execution_count": null,
   "metadata": {
    "colab": {
     "base_uri": "https://localhost:8080/"
    },
    "id": "fr8YZScu7nNy",
    "outputId": "9fb9358b-17df-4a21-c17e-3f4bbaa705be"
   },
   "outputs": [],
   "source": [
    "system_info()"
   ]
  },
  {
   "cell_type": "code",
   "execution_count": null,
   "metadata": {},
   "outputs": [],
   "source": []
  }
 ],
 "metadata": {
  "colab": {
   "authorship_tag": "ABX9TyMnUpAZ03Rl9kTHaQlTVgo0",
   "collapsed_sections": [],
   "include_colab_link": true,
   "provenance": []
  },
  "kernelspec": {
   "display_name": "Python 3 (ipykernel)",
   "language": "python",
   "name": "python3"
  },
  "language_info": {
   "codemirror_mode": {
    "name": "ipython",
    "version": 3
   },
   "file_extension": ".py",
   "mimetype": "text/x-python",
   "name": "python",
   "nbconvert_exporter": "python",
   "pygments_lexer": "ipython3",
   "version": "3.9.16"
  }
 },
 "nbformat": 4,
 "nbformat_minor": 4
}
